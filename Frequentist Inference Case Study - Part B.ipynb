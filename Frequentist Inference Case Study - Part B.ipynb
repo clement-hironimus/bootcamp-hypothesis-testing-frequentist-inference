{
 "cells": [
  {
   "cell_type": "markdown",
   "metadata": {},
   "source": [
    "# Frequentist Inference Case Study - Part B"
   ]
  },
  {
   "cell_type": "markdown",
   "metadata": {},
   "source": [
    "## Learning objectives"
   ]
  },
  {
   "cell_type": "markdown",
   "metadata": {},
   "source": [
    "Welcome to Part B of the Frequentist inference case study! The purpose of this case study is to help you apply the concepts associated with Frequentist inference in Python. In particular, you'll practice writing Python code to apply the following statistical concepts: \n",
    "* the _z_-statistic\n",
    "* the _t_-statistic\n",
    "* the difference and relationship between the two\n",
    "* the Central Limit Theorem, including its assumptions and consequences\n",
    "* how to estimate the population mean and standard deviation from a sample\n",
    "* the concept of a sampling distribution of a test statistic, particularly for the mean\n",
    "* how to combine these concepts to calculate a confidence interval"
   ]
  },
  {
   "cell_type": "markdown",
   "metadata": {},
   "source": [
    "In the previous notebook, we used only data from a known normal distribution. **You'll now tackle real data, rather than simulated data, and answer some relevant real-world business problems using the data.**"
   ]
  },
  {
   "cell_type": "markdown",
   "metadata": {},
   "source": [
    "## Hospital medical charges"
   ]
  },
  {
   "cell_type": "markdown",
   "metadata": {},
   "source": [
    "Imagine that a hospital has hired you as their data scientist. An administrator is working on the hospital's business operations plan and needs you to help them answer some business questions. \n",
    "\n",
    "In this assignment notebook, you're going to use frequentist statistical inference on a data sample to answer the questions:\n",
    "* has the hospital's revenue stream fallen below a key threshold?\n",
    "* are patients with insurance really charged different amounts than those without?\n",
    "\n",
    "Answering that last question with a frequentist approach makes some assumptions, and requires some knowledge, about the two groups."
   ]
  },
  {
   "cell_type": "markdown",
   "metadata": {},
   "source": [
    "We are going to use some data on medical charges obtained from [Kaggle](https://www.kaggle.com/easonlai/sample-insurance-claim-prediction-dataset). \n",
    "\n",
    "For the purposes of this exercise, assume the observations are the result of random sampling from our single hospital. Recall that in the previous assignment, we introduced the Central Limit Theorem (CLT), and its consequence that the distributions of sample statistics approach a normal distribution as $n$ increases. The amazing thing about this is that it applies to the sampling distributions of statistics that have been calculated from even highly non-normal distributions of data! Recall, also, that hypothesis testing is very much based on making inferences about such sample statistics. You're going to rely heavily on the CLT to apply frequentist (parametric) tests to answer the questions in this notebook."
   ]
  },
  {
   "cell_type": "code",
   "execution_count": 57,
   "metadata": {
    "ExecuteTime": {
     "end_time": "2023-10-01T21:10:50.759089Z",
     "start_time": "2023-10-01T21:10:50.704283Z"
    }
   },
   "outputs": [],
   "source": [
    "import pandas as pd\n",
    "import numpy as np\n",
    "import matplotlib.pyplot as plt\n",
    "import seaborn as sns\n",
    "sns.set() # Initialize seaborn's style\n",
    "import scipy.stats as stats\n",
    "from scipy.stats import norm\n",
    "from numpy.random import seed\n",
    "medical = pd.read_csv('insurance2.csv')"
   ]
  },
  {
   "cell_type": "code",
   "execution_count": 2,
   "metadata": {
    "ExecuteTime": {
     "end_time": "2023-10-01T19:25:48.858994Z",
     "start_time": "2023-10-01T19:25:48.837870Z"
    }
   },
   "outputs": [
    {
     "data": {
      "text/plain": "(1338, 8)"
     },
     "execution_count": 2,
     "metadata": {},
     "output_type": "execute_result"
    }
   ],
   "source": [
    "medical.shape"
   ]
  },
  {
   "cell_type": "code",
   "execution_count": 3,
   "metadata": {
    "ExecuteTime": {
     "end_time": "2023-10-01T19:25:48.893811Z",
     "start_time": "2023-10-01T19:25:48.845622Z"
    }
   },
   "outputs": [
    {
     "data": {
      "text/plain": "   age  sex     bmi  children  smoker  region      charges  insuranceclaim\n0   19    0  27.900         0       1       3  16884.92400               1\n1   18    1  33.770         1       0       2   1725.55230               1\n2   28    1  33.000         3       0       2   4449.46200               0\n3   33    1  22.705         0       0       1  21984.47061               0\n4   32    1  28.880         0       0       1   3866.85520               1",
      "text/html": "<div>\n<style scoped>\n    .dataframe tbody tr th:only-of-type {\n        vertical-align: middle;\n    }\n\n    .dataframe tbody tr th {\n        vertical-align: top;\n    }\n\n    .dataframe thead th {\n        text-align: right;\n    }\n</style>\n<table border=\"1\" class=\"dataframe\">\n  <thead>\n    <tr style=\"text-align: right;\">\n      <th></th>\n      <th>age</th>\n      <th>sex</th>\n      <th>bmi</th>\n      <th>children</th>\n      <th>smoker</th>\n      <th>region</th>\n      <th>charges</th>\n      <th>insuranceclaim</th>\n    </tr>\n  </thead>\n  <tbody>\n    <tr>\n      <th>0</th>\n      <td>19</td>\n      <td>0</td>\n      <td>27.900</td>\n      <td>0</td>\n      <td>1</td>\n      <td>3</td>\n      <td>16884.92400</td>\n      <td>1</td>\n    </tr>\n    <tr>\n      <th>1</th>\n      <td>18</td>\n      <td>1</td>\n      <td>33.770</td>\n      <td>1</td>\n      <td>0</td>\n      <td>2</td>\n      <td>1725.55230</td>\n      <td>1</td>\n    </tr>\n    <tr>\n      <th>2</th>\n      <td>28</td>\n      <td>1</td>\n      <td>33.000</td>\n      <td>3</td>\n      <td>0</td>\n      <td>2</td>\n      <td>4449.46200</td>\n      <td>0</td>\n    </tr>\n    <tr>\n      <th>3</th>\n      <td>33</td>\n      <td>1</td>\n      <td>22.705</td>\n      <td>0</td>\n      <td>0</td>\n      <td>1</td>\n      <td>21984.47061</td>\n      <td>0</td>\n    </tr>\n    <tr>\n      <th>4</th>\n      <td>32</td>\n      <td>1</td>\n      <td>28.880</td>\n      <td>0</td>\n      <td>0</td>\n      <td>1</td>\n      <td>3866.85520</td>\n      <td>1</td>\n    </tr>\n  </tbody>\n</table>\n</div>"
     },
     "execution_count": 3,
     "metadata": {},
     "output_type": "execute_result"
    }
   ],
   "source": [
    "medical.head()"
   ]
  },
  {
   "cell_type": "markdown",
   "metadata": {},
   "source": [
    "__Q1:__ Plot the histogram of charges and calculate the mean and standard deviation. Comment on the appropriateness of these statistics for the data."
   ]
  },
  {
   "cell_type": "markdown",
   "metadata": {},
   "source": [
    "__A:__"
   ]
  },
  {
   "cell_type": "code",
   "execution_count": 4,
   "metadata": {
    "ExecuteTime": {
     "end_time": "2023-10-01T19:25:52.090454Z",
     "start_time": "2023-10-01T19:25:51.418854Z"
    }
   },
   "outputs": [
    {
     "data": {
      "text/plain": "<matplotlib.legend.Legend at 0x1389aa510>"
     },
     "execution_count": 4,
     "metadata": {},
     "output_type": "execute_result"
    },
    {
     "data": {
      "text/plain": "<Figure size 640x480 with 1 Axes>",
      "image/png": "[encoded data removed]"
     },
     "metadata": {},
     "output_type": "display_data"
    }
   ],
   "source": [
    "# Histogram\n",
    "ax = sns.histplot(medical, x='charges')\n",
    "ax.set_title('Count of Charges')\n",
    "ax.axvline(np.mean(medical.charges), color='red', linestyle='--', label='mean')\n",
    "ax.axvline(np.median(medical.charges), color='orange', linestyle=':', label='median')\n",
    "ax.legend()"
   ]
  },
  {
   "cell_type": "code",
   "execution_count": 5,
   "metadata": {
    "ExecuteTime": {
     "end_time": "2023-10-01T19:25:52.535232Z",
     "start_time": "2023-10-01T19:25:52.455359Z"
    }
   },
   "outputs": [
    {
     "data": {
      "text/plain": "count     1338.000000\nmean     13270.422265\nstd      12110.011237\nmin       1121.873900\n25%       4740.287150\n50%       9382.033000\n75%      16639.912515\nmax      63770.428010\nName: charges, dtype: float64"
     },
     "execution_count": 5,
     "metadata": {},
     "output_type": "execute_result"
    }
   ],
   "source": [
    "# Mean & Standard Deviation\n",
    "medical.charges.describe()"
   ]
  },
  {
   "cell_type": "markdown",
   "metadata": {},
   "source": [
    "|__Q2:__ The administrator is concerned that the actual average charge has fallen below 12,000, threatening the hospital's operational model. On the assumption that these data represent a random sample of charges, how would you justify that these data allow you to answer that question? And what would be the most appropriate frequentist test, of the ones discussed so far, to apply?"
   ]
  },
  {
   "cell_type": "markdown",
   "metadata": {},
   "source": [
    "__A:__\n",
    "Let's test the p-value, with NULL Hypothesis (H0) assuming that the Administrator's claim that actual charge is below 12K correct, we want to know what's the probability of observing an \"extreme\" mean value in current sample (ie. which is 13,270). If the p-value is < 0.05, then we consider as statistical-significance/unlikely that sample's mean can be that big (13.2K) therefore rejecting the NULL Hypothesis (H0). Otherwise, if p-value is >= 0.05, we fail to reject the Null Hypothesis (H0) that sample mean of 13.2K can be merely from a random chance. "
   ]
  },
  {
   "cell_type": "code",
   "execution_count": 6,
   "outputs": [
    {
     "name": "stdout",
     "output_type": "stream",
     "text": [
      "t-statistic: 3.8373517196585314.\n",
      "p-value (the probability of observing an 'extreme' mean value of 13270.422265141257 when assuming that population's mean is <= $12K):0.0033%.\n",
      "Decision: REJECT the NULL Hypothesis. Actual Charge is likely > $12K.\n"
     ]
    }
   ],
   "source": [
    "# H0: The Actual Charge is <= $12K (assuming Administrator's claim was correct)\n",
    "# H1: The Actual Average Charge is > $12K\n",
    "\n",
    "t_statistic, p_value = stats.ttest_1samp(\n",
    "    medical.charges, \n",
    "    popmean=12000,\n",
    "    alternative='greater' # Setting Alternative Hypothesis (H1) that population mean > 'popmean' (ie. actual charge > 12K)\n",
    ")\n",
    "\n",
    "p_value /= 2 # Dividing p-value by 2 for a one-sided T-Test\n",
    "\n",
    "print(f\"t-statistic: {t_statistic}.\")\n",
    "print(f\"p-value (the probability of observing an 'extreme' mean value of {np.mean(medical.charges)} when assuming that population's mean is <= $12K):\"\n",
    "      f\"{round(p_value * 100, 4)}%.\")\n",
    "print(\"Decision: REJECT the NULL Hypothesis. Actual Charge is likely > $12K.\")"
   ],
   "metadata": {
    "collapsed": false,
    "ExecuteTime": {
     "end_time": "2023-10-01T19:25:54.882861Z",
     "start_time": "2023-10-01T19:25:54.837514Z"
    }
   }
  },
  {
   "cell_type": "markdown",
   "source": [
    "Below is using another method with Bootstrap using MEAN. The result also showed low probability % of drawing sample mean < $12K (which means, it's very unlikely that the average/mean charge is below $12K)."
   ],
   "metadata": {
    "collapsed": false
   }
  },
  {
   "cell_type": "code",
   "execution_count": 8,
   "outputs": [
    {
     "name": "stdout",
     "output_type": "stream",
     "text": [
      "95% confidence interval for the mean: (12621.290558601795, 13939.956410323617)\n"
     ]
    }
   ],
   "source": [
    "# Bootstrap using MEAN\n",
    "n_bootstrap_samples = 10000\n",
    "bootstrap_sample_size = len(medical.charges)  # Use the size of your original sample\n",
    "\n",
    "bootstrap_means = np.empty(n_bootstrap_samples)\n",
    "\n",
    "# Generate bootstrap samples and compute the means\n",
    "for i in range(n_bootstrap_samples):\n",
    "    bootstrap_sample = np.random.choice(medical.charges, size=bootstrap_sample_size, replace=True)\n",
    "    bootstrap_means[i] = np.mean(bootstrap_sample)\n",
    "\n",
    "# Compute the 95% confidence interval\n",
    "ci_lower, ci_upper = np.percentile(bootstrap_means, [2.5, 97.5])\n",
    "\n",
    "print(f\"95% confidence interval for the mean: ({ci_lower}, {ci_upper})\")"
   ],
   "metadata": {
    "collapsed": false,
    "ExecuteTime": {
     "end_time": "2023-10-01T19:26:28.731220Z",
     "start_time": "2023-10-01T19:26:27.731974Z"
    }
   }
  },
  {
   "cell_type": "code",
   "execution_count": 10,
   "outputs": [
    {
     "name": "stdout",
     "output_type": "stream",
     "text": [
      "probability that sampling distribution has mean < $12K: 0.0065%\n"
     ]
    }
   ],
   "source": [
    "# Probability that sampling distribution has mean $12K or less\n",
    "probability = norm.cdf(11999, loc=np.mean(bootstrap_means), scale=np.std(bootstrap_means, ddof=1))\n",
    "print(f\"probability that sampling distribution has mean < $12K: {round(probability * 100, 4)}%\")"
   ],
   "metadata": {
    "collapsed": false,
    "ExecuteTime": {
     "end_time": "2023-10-01T19:26:35.011347Z",
     "start_time": "2023-10-01T19:26:34.977169Z"
    }
   }
  },
  {
   "cell_type": "code",
   "execution_count": 11,
   "outputs": [
    {
     "data": {
      "text/plain": "[Text(0.5, 1.0, 'Count of MEAN Bootstrap'), Text(0.5, 0, 'charges')]"
     },
     "execution_count": 11,
     "metadata": {},
     "output_type": "execute_result"
    },
    {
     "data": {
      "text/plain": "<Figure size 640x480 with 1 Axes>",
      "image/png": "[encoded data removed]"
     },
     "metadata": {},
     "output_type": "display_data"
    }
   ],
   "source": [
    "ax = sns.histplot(bootstrap_means)\n",
    "ax.set(title='Count of MEAN Bootstrap', xlabel='charges')"
   ],
   "metadata": {
    "collapsed": false,
    "ExecuteTime": {
     "end_time": "2023-10-01T19:26:38.346088Z",
     "start_time": "2023-10-01T19:26:37.189063Z"
    }
   }
  },
  {
   "cell_type": "markdown",
   "source": [
    "However, it might be a different story if what the Administrator meant was \"commonly occurring charge\", which could indicate \"median\" instead of \"mean\". If that's the case, the sample Median (9,382) is actually consistent with the Administrator's claim (< 12K). Bootstrap result also showed 95% Confidence Interval of 8.8K - 9.8K). And the probability of having sample < 12K reached 100%."
   ],
   "metadata": {
    "collapsed": false
   }
  },
  {
   "cell_type": "code",
   "execution_count": 14,
   "outputs": [
    {
     "name": "stdout",
     "output_type": "stream",
     "text": [
      "95% confidence interval for the mean: (8803.218540625, 9875.6804)\n"
     ]
    }
   ],
   "source": [
    "# Bootstrap using MEDIAN\n",
    "n_bootstrap_samples = 10000\n",
    "bootstrap_sample_size = len(medical.charges)  # Use the size of your original sample\n",
    "\n",
    "bootstrap_median = np.empty(n_bootstrap_samples)\n",
    "\n",
    "# Generate bootstrap samples and compute the means\n",
    "for i in range(n_bootstrap_samples):\n",
    "    bootstrap_sample = np.random.choice(medical.charges, size=bootstrap_sample_size, replace=True)\n",
    "    bootstrap_median[i] = np.median(bootstrap_sample)\n",
    "\n",
    "# Compute the 95% confidence interval\n",
    "ci_lower, ci_upper = np.percentile(bootstrap_median, [2.5, 97.5])\n",
    "\n",
    "print(f\"95% confidence interval for the mean: ({ci_lower}, {ci_upper})\")"
   ],
   "metadata": {
    "collapsed": false,
    "ExecuteTime": {
     "end_time": "2023-10-01T19:28:52.052815Z",
     "start_time": "2023-10-01T19:28:50.117781Z"
    }
   }
  },
  {
   "cell_type": "code",
   "execution_count": 15,
   "outputs": [
    {
     "name": "stdout",
     "output_type": "stream",
     "text": [
      "probability that sampling distribution has mean < $12K: 100.0%\n"
     ]
    }
   ],
   "source": [
    "# Probability that sampling distribution has mean $12K or less\n",
    "probability = norm.cdf(11999, loc=np.mean(bootstrap_median), scale=np.std(bootstrap_median, ddof=1))\n",
    "print(f\"probability that sampling distribution has mean < $12K: {round(probability * 100, 4)}%\")"
   ],
   "metadata": {
    "collapsed": false,
    "ExecuteTime": {
     "end_time": "2023-10-01T19:28:52.067096Z",
     "start_time": "2023-10-01T19:28:52.055288Z"
    }
   }
  },
  {
   "cell_type": "code",
   "execution_count": 44,
   "outputs": [
    {
     "data": {
      "text/plain": "[Text(0.5, 1.0, 'Count of MEDIAN Bootstrap'), Text(0.5, 0, 'charges')]"
     },
     "execution_count": 44,
     "metadata": {},
     "output_type": "execute_result"
    },
    {
     "data": {
      "text/plain": "<Figure size 640x480 with 1 Axes>",
      "image/png": "[encoded data removed]"
     },
     "metadata": {},
     "output_type": "display_data"
    }
   ],
   "source": [
    "ax = sns.histplot(bootstrap_median)\n",
    "ax.set(title='Count of MEDIAN Bootstrap', xlabel='charges')"
   ],
   "metadata": {
    "collapsed": false,
    "ExecuteTime": {
     "end_time": "2023-10-01T21:00:59.162454Z",
     "start_time": "2023-10-01T21:00:58.655538Z"
    }
   }
  },
  {
   "cell_type": "markdown",
   "metadata": {},
   "source": [
    "__Q3:__ Given the nature of the administrator's concern, what is the appropriate confidence interval in this case? A ***one-sided*** or ***two-sided*** interval? (Refresh your understanding of this concept on p. 399 of the *AoS*). Calculate the critical value and the relevant 95% confidence interval for the mean, and comment on whether the administrator should be concerned."
   ]
  },
  {
   "cell_type": "markdown",
   "metadata": {},
   "source": [
    "__A:__\n",
    "We'll use one-sided t-test 95% Confidence Interval, which means the lower bound will be the 0.05 quantile (instead of 0.025 for two-sided). The result of lower bound from sample's mean is 12,725 (still greater than Administrator's claim of < 12K). "
   ]
  },
  {
   "cell_type": "code",
   "execution_count": 23,
   "metadata": {
    "ExecuteTime": {
     "end_time": "2023-10-01T19:32:25.988150Z",
     "start_time": "2023-10-01T19:32:25.973835Z"
    }
   },
   "outputs": [
    {
     "name": "stdout",
     "output_type": "stream",
     "text": [
      "95% confidence interval for the mean (lower bound): 12725.48718381623\n"
     ]
    }
   ],
   "source": [
    "sample_size = len(medical.charges)\n",
    "sample_mean = np.mean(medical.charges)\n",
    "sample_std = np.std(medical.charges, ddof=1)  # ddof=1 to use sample standard deviation\n",
    "\n",
    "# Calculate the standard error\n",
    "standard_error = sample_std / np.sqrt(sample_size)\n",
    "\n",
    "# Calculate the critical value from the t-distribution\n",
    "    # For a one-sided test at the 95% confidence level, we look at the 5% point (0.05) of the t-distribution\n",
    "critical_value = stats.t.ppf(0.05, df=sample_size-1)\n",
    "\n",
    "# Calculate the margin of error\n",
    "margin_of_error = critical_value * standard_error\n",
    "\n",
    "# Calculate the lower bound of the 95% confidence interval\n",
    "confidence_interval_lower_bound = sample_mean + margin_of_error  # We add because the critical_value is negative\n",
    "\n",
    "print(f\"95% confidence interval for the mean (lower bound): {confidence_interval_lower_bound}\")"
   ]
  },
  {
   "cell_type": "markdown",
   "metadata": {},
   "source": [
    "The administrator then wants to know whether people with insurance really are charged a different amount to those without.\n",
    "\n",
    "__Q4:__ State the null and alternative hypothesis here. Use the _t_-test for the difference between means, where the pooled standard deviation of the two groups is given by:\n",
    "\\begin{equation}\n",
    "s_p = \\sqrt{\\frac{(n_0 - 1)s^2_0 + (n_1 - 1)s^2_1}{n_0 + n_1 - 2}}\n",
    "\\end{equation}\n",
    "\n",
    "and the *t*-test statistic is then given by:\n",
    "\n",
    "\\begin{equation}\n",
    "t = \\frac{\\bar{x}_0 - \\bar{x}_1}{s_p \\sqrt{1/n_0 + 1/n_1}}.\n",
    "\\end{equation}\n",
    "\n",
    "(If you need some reminding of the general definition of ***t-statistic***, check out the definition on p. 404 of *AoS*). \n",
    "\n",
    "What assumption about the variances of the two groups are we making here?"
   ]
  },
  {
   "cell_type": "markdown",
   "metadata": {},
   "source": [
    "__A:__\n",
    "- Null Hypothesis (N0): People with insurance are charged the SAME amount as those without.\n",
    "- Alternative Hypothesis (H1): People with insurance are charged DIFFERENT amount as those without."
   ]
  },
  {
   "cell_type": "markdown",
   "metadata": {},
   "source": [
    "__Q5:__ Perform this hypothesis test both manually, using the above formulae, and then using the appropriate function from [scipy.stats](https://docs.scipy.org/doc/scipy/reference/stats.html#statistical-tests) (hint, you're looking for a function to perform a _t_-test on two independent samples). For the manual approach, calculate the value of the test statistic and then its probability (the p-value). Verify you get the same results from both."
   ]
  },
  {
   "cell_type": "markdown",
   "metadata": {},
   "source": [
    "__A:__ "
   ]
  },
  {
   "cell_type": "code",
   "execution_count": 24,
   "metadata": {
    "ExecuteTime": {
     "end_time": "2023-10-01T19:35:46.294625Z",
     "start_time": "2023-10-01T19:35:46.263049Z"
    }
   },
   "outputs": [
    {
     "data": {
      "text/plain": "   age  sex     bmi  children  smoker  region      charges  insuranceclaim\n0   19    0  27.900         0       1       3  16884.92400               1\n1   18    1  33.770         1       0       2   1725.55230               1\n2   28    1  33.000         3       0       2   4449.46200               0\n3   33    1  22.705         0       0       1  21984.47061               0\n4   32    1  28.880         0       0       1   3866.85520               1",
      "text/html": "<div>\n<style scoped>\n    .dataframe tbody tr th:only-of-type {\n        vertical-align: middle;\n    }\n\n    .dataframe tbody tr th {\n        vertical-align: top;\n    }\n\n    .dataframe thead th {\n        text-align: right;\n    }\n</style>\n<table border=\"1\" class=\"dataframe\">\n  <thead>\n    <tr style=\"text-align: right;\">\n      <th></th>\n      <th>age</th>\n      <th>sex</th>\n      <th>bmi</th>\n      <th>children</th>\n      <th>smoker</th>\n      <th>region</th>\n      <th>charges</th>\n      <th>insuranceclaim</th>\n    </tr>\n  </thead>\n  <tbody>\n    <tr>\n      <th>0</th>\n      <td>19</td>\n      <td>0</td>\n      <td>27.900</td>\n      <td>0</td>\n      <td>1</td>\n      <td>3</td>\n      <td>16884.92400</td>\n      <td>1</td>\n    </tr>\n    <tr>\n      <th>1</th>\n      <td>18</td>\n      <td>1</td>\n      <td>33.770</td>\n      <td>1</td>\n      <td>0</td>\n      <td>2</td>\n      <td>1725.55230</td>\n      <td>1</td>\n    </tr>\n    <tr>\n      <th>2</th>\n      <td>28</td>\n      <td>1</td>\n      <td>33.000</td>\n      <td>3</td>\n      <td>0</td>\n      <td>2</td>\n      <td>4449.46200</td>\n      <td>0</td>\n    </tr>\n    <tr>\n      <th>3</th>\n      <td>33</td>\n      <td>1</td>\n      <td>22.705</td>\n      <td>0</td>\n      <td>0</td>\n      <td>1</td>\n      <td>21984.47061</td>\n      <td>0</td>\n    </tr>\n    <tr>\n      <th>4</th>\n      <td>32</td>\n      <td>1</td>\n      <td>28.880</td>\n      <td>0</td>\n      <td>0</td>\n      <td>1</td>\n      <td>3866.85520</td>\n      <td>1</td>\n    </tr>\n  </tbody>\n</table>\n</div>"
     },
     "execution_count": 24,
     "metadata": {},
     "output_type": "execute_result"
    }
   ],
   "source": [
    "medical.head()"
   ]
  },
  {
   "cell_type": "code",
   "execution_count": 54,
   "outputs": [],
   "source": [
    "# Separating the data into new df\n",
    "charges_with_insurance_claim = medical.charges[medical.insuranceclaim == 1]\n",
    "charges_without_insurance_claim = medical.charges[medical.insuranceclaim != 1]"
   ],
   "metadata": {
    "collapsed": false,
    "ExecuteTime": {
     "end_time": "2023-10-01T21:04:42.531966Z",
     "start_time": "2023-10-01T21:04:42.483787Z"
    }
   }
  },
  {
   "cell_type": "code",
   "execution_count": 52,
   "metadata": {
    "ExecuteTime": {
     "end_time": "2023-10-01T21:03:49.355170Z",
     "start_time": "2023-10-01T21:03:48.602342Z"
    }
   },
   "outputs": [
    {
     "data": {
      "text/plain": "<matplotlib.legend.Legend at 0x13acbe010>"
     },
     "execution_count": 52,
     "metadata": {},
     "output_type": "execute_result"
    },
    {
     "data": {
      "text/plain": "<Figure size 640x480 with 1 Axes>",
      "image/png": "[encoded data removed]"
     },
     "metadata": {},
     "output_type": "display_data"
    }
   ],
   "source": [
    "# Charges for Insurance Claim\n",
    "# charges_with_insurance_claim.describe()\n",
    "ax = sns.histplot(charges_with_insurance_claim)\n",
    "ax.set(title='Count of Charges with Insurance Claim', xlabel='charges', xlim=[0, 60000])\n",
    "ax.axvline(np.mean(charges_with_insurance_claim), color='red', linestyle='--', label='mean')\n",
    "ax.axvline(np.median(charges_with_insurance_claim), color='orange', linestyle=':', label='median')\n",
    "ax.legend()"
   ]
  },
  {
   "cell_type": "code",
   "execution_count": 53,
   "metadata": {
    "ExecuteTime": {
     "end_time": "2023-10-01T21:04:25.925871Z",
     "start_time": "2023-10-01T21:04:25.378865Z"
    }
   },
   "outputs": [
    {
     "data": {
      "text/plain": "<matplotlib.legend.Legend at 0x13ac86d90>"
     },
     "execution_count": 53,
     "metadata": {},
     "output_type": "execute_result"
    },
    {
     "data": {
      "text/plain": "<Figure size 640x480 with 1 Axes>",
      "image/png": "[encoded data removed]"
     },
     "metadata": {},
     "output_type": "display_data"
    }
   ],
   "source": [
    "# Charges for Non-Insurance Claim\n",
    "# charges_without_insurance_claim.describe()\n",
    "# Charges for Insurance Claim\n",
    "# charges_with_insurance_claim.describe()\n",
    "ax = sns.histplot(charges_without_insurance_claim)\n",
    "ax.set(title='Count of Charges WITHOUT Insurance Claim', xlabel='charges', xlim=[0, 60000])\n",
    "ax.axvline(np.mean(charges_without_insurance_claim), color='red', linestyle='--', label='mean')\n",
    "ax.axvline(np.median(charges_without_insurance_claim), color='orange', linestyle=':', label='median')\n",
    "ax.legend()"
   ]
  },
  {
   "cell_type": "code",
   "execution_count": 59,
   "metadata": {
    "ExecuteTime": {
     "end_time": "2023-10-01T21:15:56.952159Z",
     "start_time": "2023-10-01T21:15:56.881908Z"
    }
   },
   "outputs": [
    {
     "data": {
      "text/plain": "count      783.000000\nmean     16423.928277\nstd      14045.928419\nmin       1131.506600\n25%       5733.288925\n50%      11538.421000\n75%      23484.788875\nmax      63770.428010\nName: charges, dtype: float64"
     },
     "execution_count": 59,
     "metadata": {},
     "output_type": "execute_result"
    }
   ],
   "source": [
    "# Comparing some stats for Charges with Insurance\n",
    "charges_with_insurance_claim.describe()"
   ]
  },
  {
   "cell_type": "markdown",
   "source": [],
   "metadata": {
    "collapsed": false
   }
  },
  {
   "cell_type": "code",
   "execution_count": 60,
   "outputs": [
    {
     "data": {
      "text/plain": "count      555.000000\nmean      8821.421892\nstd       6446.510127\nmin       1121.873900\n25%       4445.337575\n50%       6933.242250\n75%      11424.211575\nmax      36910.608030\nName: charges, dtype: float64"
     },
     "execution_count": 60,
     "metadata": {},
     "output_type": "execute_result"
    }
   ],
   "source": [
    "# Comparing some stats for Charges WITHOUT Insurance\n",
    "charges_without_insurance_claim.describe()"
   ],
   "metadata": {
    "collapsed": false,
    "ExecuteTime": {
     "end_time": "2023-10-01T21:17:49.421149Z",
     "start_time": "2023-10-01T21:17:49.364574Z"
    }
   }
  },
  {
   "cell_type": "markdown",
   "source": [
    "Given that the standard deviation of two samples are pretty different, we'll use the \"Unequal Variance\" method to compute t-statistic and degree of freedom ([reference](https://www.qualitygurus.com/two-sample-t-test/))\n",
    "\n",
    "\n",
    "**t-value Unequal Variance**\n",
    "\n",
    "$\\LARGE{t = \\frac{\\overline{x}_1 - \\overline{x}_2}{\\sqrt{\\frac{s_1^2}{n_1} + \\frac{s_2^2}{n_2}}}}$\n",
    "\n",
    "\n",
    "**Degrees of Freedom (Unequal Variance)**\n",
    "\n",
    "$\\LARGE{ df = \\frac{(\\frac{s_1^2}{n_1} + \\frac{s_2^2}{n_2})^2}{\\frac{(s_1^2/n_1)^2}{n_1 - 1} + \\frac{(s_2^2/n_2)^2}{n_2 - 1}}}$"
   ],
   "metadata": {
    "collapsed": false
   }
  },
  {
   "cell_type": "code",
   "execution_count": 91,
   "outputs": [
    {
     "name": "stdout",
     "output_type": "stream",
     "text": [
      "Manual Approach:\n",
      "Test Statistic: 13.298031957975649\n",
      "Critical Value: 1.9619936369413875\n",
      "Degrees of Freedom: 1169.9961514297033\n",
      "The p-value is < .00001 (0.0).\n",
      "\n",
      "Test Statistic/t-score (13.298031957975649) is greater than Critical Value (1.9619936369413875): REJECT NULL Hypothesis, and ACCEPT ALTERNATIVE HYPOTHESIS - People with insurance are charged DIFFERENT amount as those without.\n",
      "\n",
      "The very small p-value also indicates strong reason to reject the NULL Hypothesis.\n"
     ]
    }
   ],
   "source": [
    "# Group 1 refers to \"Charges with Insurance Claim\"\n",
    "# Group 2 refers to \"Charges WITHOUT Insurance Claim\"\n",
    "\n",
    "# Calculate the sample statistics\n",
    "mean1 = np.mean(charges_with_insurance_claim)\n",
    "mean2 = np.mean(charges_without_insurance_claim)\n",
    "sd1 = np.std(charges_with_insurance_claim, ddof=1)  # ddof=1 to use sample standard deviation\n",
    "sd2 = np.std(charges_without_insurance_claim, ddof=1)  # ddof=1 to use sample standard deviation\n",
    "n1 = len(charges_with_insurance_claim)\n",
    "n2 = len(charges_without_insurance_claim)\n",
    "\n",
    "# Calculate the test statistic (Unequal Variance)\n",
    "t_statistic = (\n",
    "    (mean1 - mean2) \n",
    "        / np.sqrt((sd1**2/n1) + (sd2**2/n2))\n",
    ")\n",
    "\n",
    "# Calculate the degrees of freedom (Unequal Variance)\n",
    "df = (\n",
    "    ((sd1**2/n1 + sd2**2/n2)**2) \n",
    "        / (((sd1**2 / n1)**2 / (n1-1)) + ((sd2**2 / n2)**2 / (n2-1)))\n",
    ")\n",
    "\n",
    "# Calculate the Critical Value for t-distribution, 95% Confidence Interval\n",
    "critical_value = stats.t.ppf(0.975, df=df)\n",
    "\n",
    "# Another way, to look by the p-value of observing a data as extreme as \"t_statistic\". And then we subtract this from 1 because we want to get the probability of getting the tail. And then multiply by 2 for two-tailed test.\n",
    "p_value = 2 * (1 - stats.t.cdf(np.abs(t_statistic), df))\n",
    "\n",
    "print(\"Manual Approach:\")\n",
    "print(f\"Test Statistic: {t_statistic}\")\n",
    "print(f\"Critical Value: {critical_value}\")\n",
    "print(f\"Degrees of Freedom: {df}\")\n",
    "print(f\"The p-value is < .00001 ({p_value}).\")\n",
    "print(f\"\\nTest Statistic/t-score ({t_statistic}) is greater than Critical Value ({critical_value}): REJECT NULL Hypothesis, and ACCEPT ALTERNATIVE HYPOTHESIS - People with insurance are charged DIFFERENT amount as those without.\")\n",
    "print(f\"\\nThe very small p-value also indicates strong reason to reject the NULL Hypothesis.\")"
   ],
   "metadata": {
    "collapsed": false,
    "ExecuteTime": {
     "end_time": "2023-10-01T22:47:24.202230Z",
     "start_time": "2023-10-01T22:47:24.078702Z"
    }
   }
  },
  {
   "cell_type": "markdown",
   "source": [
    "Another way using \"scipy.stats.ttest_ind\" method ([reference](https://docs.scipy.org/doc/scipy/reference/generated/scipy.stats.ttest_ind.html)).\n",
    "\n",
    "The function will calculate the T-test for the means of two independent samples of scores.\n",
    "\n",
    "This is a test for the null hypothesis that 2 independent samples have identical average (expected) values. This test assumes that the populations have identical variances by default."
   ],
   "metadata": {
    "collapsed": false
   }
  },
  {
   "cell_type": "code",
   "execution_count": 93,
   "outputs": [],
   "source": [
    "scipy_ttest_two_independent_sample = stats.ttest_ind(\n",
    "    a=charges_with_insurance_claim, \n",
    "    b=charges_without_insurance_claim,\n",
    "    equal_var=False # Indicated earlier that the two samples had quite different standard deviation\n",
    ")"
   ],
   "metadata": {
    "collapsed": false,
    "ExecuteTime": {
     "end_time": "2023-10-01T22:51:53.402204Z",
     "start_time": "2023-10-01T22:51:53.374869Z"
    }
   }
  },
  {
   "cell_type": "code",
   "execution_count": 95,
   "outputs": [
    {
     "name": "stdout",
     "output_type": "stream",
     "text": [
      "t-value: 13.298031957975649\n",
      "degree of freedom: 1169.9961514297029\n",
      "p-value: 1.1105103216309125e-37\n"
     ]
    }
   ],
   "source": [
    "print(f\"t-value: {scipy_ttest_two_independent_sample.statistic}\")\n",
    "print(f\"degree of freedom: {scipy_ttest_two_independent_sample.df}\")\n",
    "print(f\"p-value: {scipy_ttest_two_independent_sample.pvalue}\")"
   ],
   "metadata": {
    "collapsed": false,
    "ExecuteTime": {
     "end_time": "2023-10-01T22:53:26.275717Z",
     "start_time": "2023-10-01T22:53:26.190572Z"
    }
   }
  },
  {
   "cell_type": "markdown",
   "source": [
    "The test above shows the same result as manual. In conclusion, we REJECT NULL HYPOTHESIS and accept the ALTERNATIVE HYPOTHESIS that people with insurance are charged with different (apparently more expensive) amount."
   ],
   "metadata": {
    "collapsed": false
   }
  },
  {
   "cell_type": "markdown",
   "metadata": {},
   "source": [
    "Congratulations! Hopefully you got the exact same numerical results. This shows that you correctly calculated the numbers by hand. Secondly, you used the correct function and saw that it's much easier to use. All you need to do is pass your data to it."
   ]
  },
  {
   "cell_type": "markdown",
   "metadata": {},
   "source": [
    "__Q6:__ Conceptual question: look through the documentation for statistical test functions in scipy.stats. You'll see the above _t_-test for a sample, but can you see an equivalent one for performing a *z*-test from a sample? Comment on your answer."
   ]
  },
  {
   "cell_type": "markdown",
   "metadata": {},
   "source": [
    "__A:__\n",
    "The scipy.stats library does not have a built-in function for performing a z-test from a sample, unlike the t-test for which it provides the ttest_1samp and ttest_ind functions.\n",
    "\n",
    "The main reason for this is that z-tests are rarely used in practice when analyzing data from a sample. This is because z-tests require knowledge of the population standard deviation, which is usually unknown. In contrast, t-tests only require the sample standard deviation, which can be easily calculated from the sample data.\n",
    "\n",
    "When the population standard deviation is unknown, the sample standard deviation is used as an estimate. However, this estimate tends to be less accurate for smaller sample sizes, which leads to a different distribution (the t-distribution) being used instead of the normal distribution.\n",
    "\n",
    "In cases where the sample size is large (usually considered as more than 30), the t-distribution approaches the normal distribution, and a t-test will give virtually the same result as a z-test. This is why the t-test is more commonly used in practice, and why scipy.stats provides built-in functions for the t-test but not the z-test.\n",
    "\n",
    "To perform a z-test, we can use the \"statsmodels\" library, which provides the statsmodels.stats.weightstats.ztest function. However, only use this if we are sure that the population standard deviation is known, or if the sample size is large and we are willing to assume that the sample standard deviation is a good estimate of the population standard deviation."
   ]
  },
  {
   "cell_type": "markdown",
   "metadata": {},
   "source": [
    "## Learning outcomes"
   ]
  },
  {
   "cell_type": "markdown",
   "metadata": {},
   "source": [
    "Having completed this project notebook, you now have good hands-on experience:\n",
    "* using the central limit theorem to help you apply frequentist techniques to answer questions that pertain to very non-normally distributed data from the real world\n",
    "* performing inference using such data to answer business questions\n",
    "* forming a hypothesis and framing the null and alternative hypotheses\n",
    "* testing this using a _t_-test"
   ]
  },
  {
   "cell_type": "code",
   "execution_count": null,
   "outputs": [],
   "source": [],
   "metadata": {
    "collapsed": false
   }
  }
 ],
 "metadata": {
  "kernelspec": {
   "display_name": "Python 3",
   "language": "python",
   "name": "python3"
  },
  "language_info": {
   "codemirror_mode": {
    "name": "ipython",
    "version": 3
   },
   "file_extension": ".py",
   "mimetype": "text/x-python",
   "name": "python",
   "nbconvert_exporter": "python",
   "pygments_lexer": "ipython3",
   "version": "3.7.3"
  }
 },
 "nbformat": 4,
 "nbformat_minor": 2
}
